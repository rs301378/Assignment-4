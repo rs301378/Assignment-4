{
 "cells": [
  {
   "cell_type": "markdown",
   "metadata": {},
   "source": [
    "<b>1.1 Write a Python Program(with class concepts) to find the area of the triangle using the below\n",
    "formula.</b>\n",
    "    <center> area = (s*(s-a)*(s-b)*(s-c)) ** 0.5 </center>\n",
    "<b>Function to take the length of the sides of triangle from user should be defined in the parent\n",
    "class and function to calculate the area should be defined in subclass.</b>\n"
   ]
  },
  {
   "cell_type": "code",
   "execution_count": 2,
   "metadata": {},
   "outputs": [
    {
     "name": "stdout",
     "output_type": "stream",
     "text": [
      "Enter the lenght of first side of triangle:- 3\n",
      "Enter the lenght of second side of triangle:- 5\n",
      "Enter the lenght of third side of triangle:- 6\n",
      "The area of the trianlge is:-  7.483314773547883\n"
     ]
    }
   ],
   "source": [
    "class class1:\n",
    "    def __init__(self):\n",
    "        \n",
    "        self.a = int(input(\"Enter the lenght of first side of triangle:- \"))\n",
    "        self.b = int(input(\"Enter the lenght of second side of triangle:- \"))\n",
    "        self.c = int(input(\"Enter the lenght of third side of triangle:- \"))\n",
    "\n",
    "class class2(class1):\n",
    "    def cal_area(self):\n",
    "        s = (self.a + self.b + self.c)/2\n",
    "        return (s*(s-self.a)*(s-self.b)*(s-self.c))**0.5\n",
    "    \n",
    "c = class2()\n",
    "print('The area of the trianlge is:- ', c.cal_area())"
   ]
  },
  {
   "cell_type": "markdown",
   "metadata": {},
   "source": [
    "<b> 1.2 Write a function filter_long_words() that takes a list of words and an integer n and returns the list\n",
    "of words that are longer than n. </b>"
   ]
  },
  {
   "cell_type": "code",
   "execution_count": 4,
   "metadata": {},
   "outputs": [
    {
     "name": "stdout",
     "output_type": "stream",
     "text": [
      "Enter the value of n :- 4\n",
      "The filtered list is :-  ['words', 'integer', 'returns', 'words', 'longer']\n"
     ]
    }
   ],
   "source": [
    "def filter_long_word(string,number):\n",
    "    \n",
    "    words_list = []\n",
    "    \n",
    "    for i in range(len(string)):\n",
    "        \n",
    "        if len(string[i]) > number:\n",
    "            \n",
    "            words_list.append(string[i])\n",
    "   \n",
    "    return words_list\n",
    "\n",
    "words = (\"a list of words and an integer n and returns the list of words that are longer than\").split()\n",
    "n = int(input(\"Enter the value of n :- \")) \n",
    "\n",
    "k = filter_long_word(words, n)\n",
    "print(\"The filtered list is :- \", k)\n"
   ]
  },
  {
   "cell_type": "markdown",
   "metadata": {},
   "source": [
    "<b> 2.1 Write a Python program using function concept that maps list of words into a list of integers\n",
    "representing the lengths of the corresponding words. <br>\n",
    "Hint: </b> ​If a list [ ab,cde,erty] is passed on to the python function output should come as [2,3,4] <br>\n",
    "<b> Here 2,3 and 4 are the lengths of the words in the list. </b>"
   ]
  },
  {
   "cell_type": "code",
   "execution_count": 5,
   "metadata": {},
   "outputs": [
    {
     "name": "stdout",
     "output_type": "stream",
     "text": [
      "[2, 3, 4]\n"
     ]
    }
   ],
   "source": [
    "def maps(wordsl):\n",
    "    return list(map(lambda x: len(x), wordsl))\n",
    "\n",
    "wordsl = ['ab', 'cde', 'erty']\n",
    "print(maps(wordsl))"
   ]
  },
  {
   "cell_type": "markdown",
   "metadata": {},
   "source": [
    "<b> 2.2 Write a Python function which takes a character (i.e. a string of length 1) and returns True if it is a vowel, False otherwise.</b>"
   ]
  },
  {
   "cell_type": "code",
   "execution_count": 25,
   "metadata": {},
   "outputs": [
    {
     "name": "stdout",
     "output_type": "stream",
     "text": [
      "Enter the character:- A\n"
     ]
    },
    {
     "data": {
      "text/plain": [
       "True"
      ]
     },
     "execution_count": 25,
     "metadata": {},
     "output_type": "execute_result"
    }
   ],
   "source": [
    "def check_vowel(s):\n",
    "    if (s == 'a' or s == 'e' or s == 'i' or s == 'o' or s == 'u' or s == 'A' or s == 'E' or s == 'I' or s == 'O' or s == 'U'):\n",
    "        return True\n",
    "    else:\n",
    "        return False\n",
    "s = input(\"Enter the character:- \")\n",
    "check_vowel(s)"
   ]
  },
  {
   "cell_type": "code",
   "execution_count": null,
   "metadata": {},
   "outputs": [],
   "source": []
  }
 ],
 "metadata": {
  "kernelspec": {
   "display_name": "Python 3",
   "language": "python",
   "name": "python3"
  },
  "language_info": {
   "codemirror_mode": {
    "name": "ipython",
    "version": 3
   },
   "file_extension": ".py",
   "mimetype": "text/x-python",
   "name": "python",
   "nbconvert_exporter": "python",
   "pygments_lexer": "ipython3",
   "version": "3.7.7"
  }
 },
 "nbformat": 4,
 "nbformat_minor": 2
}
